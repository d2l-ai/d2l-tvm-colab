{
 "cells": [
  {
   "cell_type": "markdown",
   "metadata": {
    "origin_pos": 0
   },
   "source": [
    "# Expressions for Operators\n",
    "\n",
    "We start from operators. As you may know, operators are the building blocks of \n",
    "neural network models. A deep neural network can be expressed as a Directed Acyclic Graph (DAG),\n",
    "which consists of nodes being the operators and edges being the data dependency between nodes.\n",
    "Being able to execute the operators efficiently is of course a necessity to high-performance\n",
    "neural network model execution.\n",
    "\n",
    "In :numref:`ch_vector_add` you have seen how to build the vector addition\n",
    "expression in TVM. This chapter covers more concepts in TVM to construct\n",
    "expressions. Specifically, you'll learn about data types, shapes, indexing,\n",
    "reduction and control flow, based on which you'll be able to construct \n",
    "operators in the next chapter.\n",
    "\n",
    ":begin_tab:toc\n",
    " - [data_types](data_types.ipynb)\n",
    " - [shapes](shapes.ipynb)\n",
    " - [index_shape_expressions](index_shape_expressions.ipynb)\n",
    " - [reductions](reductions.ipynb)\n",
    " - [if_then_else](if_then_else.ipynb)\n",
    " - [all_any](all_any.ipynb)\n",
    ":end_tab:\n"
   ]
  }
 ],
 "metadata": {
  "kernelspec": {
   "display_name": "Python 3",
   "name": "python3"
  },
  "language_info": {
   "name": "python"
  }
 },
 "nbformat": 4,
 "nbformat_minor": 4
}