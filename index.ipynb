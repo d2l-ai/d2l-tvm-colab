{
 "cells": [
  {
   "cell_type": "markdown",
   "metadata": {},
   "source": [
    "# Dive into Deep Learning Compiler\n",
    "\n",
    "**Working in progress**. Check our [roadmap](http://bit.ly/2NQ7gh3) for more details.\n",
    "\n",
    "This project is for readers who are interested in high-performance\n",
    "implementation of their programs utilizing deep learning techniques, especially model inference,\n",
    "but may not have got their hands dirty yet. We assume\n",
    "readers have a minimal background of only having experience on NumPy before. With this in mind,\n",
    "we will explain things from scratch and introduce relative background when needed. Experienced\n",
    "readers, however, should also find the contents useful.\n",
    "\n",
    "\n",
    "We roughly classify contents into three major parts. In the first part, we will\n",
    "introduce how to implement and optimize operators, such as matrix multiplication\n",
    "and convolution, for various hardware platforms. This is the basic component for\n",
    "deep learning as well as scientific computing in general.\n",
    "In the second part, we will show how to convert neural\n",
    "network models from various deep learning frameworks and further optimize them\n",
    "in the program level. The last part we will address how to deploy the optimized\n",
    "program into various environment such as mobile phones.\n",
    "In addition, at the end of the book,\n",
    "we plan to cover some latest advance of the deep learning compiler domain."
   ]
  },
  {
   "cell_type": "markdown",
   "metadata": {},
   "source": [
    ":begin_tab:toc\n",
    " - [chapter_getting_started/index](chapter_getting_started/index.ipynb)\n",
    " - [chapter_expressions/index](chapter_expressions/index.ipynb)\n",
    " - [chapter_common_operators/index](chapter_common_operators/index.ipynb)\n",
    " - [chapter_cpu_schedules/index](chapter_cpu_schedules/index.ipynb)\n",
    " - [chapter_gpu_schedules/index](chapter_gpu_schedules/index.ipynb)\n",
    " - [chapter_neural_networks/index](chapter_neural_networks/index.ipynb)\n",
    " - [chapter_deployment/index](chapter_deployment/index.ipynb)\n",
    ":end_tab:\n"
   ]
  },
  {
   "cell_type": "markdown",
   "metadata": {},
   "source": [
    ":begin_tab:toc\n",
    " - [chapter_references/zreferences](chapter_references/zreferences.ipynb)\n",
    ":end_tab:\n"
   ]
  },
  {
   "cell_type": "markdown",
   "metadata": {},
   "source": [
    "## [Discussions](https://discuss.tvm.ai/t/d2l-tvm-a-tvm-introduction-book/4305)"
   ]
  }
 ],
 "metadata": {
  "kernelspec": {
   "display_name": "Python 3",
   "name": "python3"
  },
  "language_info": {
   "name": "python"
  }
 },
 "nbformat": 4,
 "nbformat_minor": 2
}