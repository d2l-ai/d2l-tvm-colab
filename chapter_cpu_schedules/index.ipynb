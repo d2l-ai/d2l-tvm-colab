{
 "cells": [
  {
   "cell_type": "markdown",
   "metadata": {},
   "source": [
    "# Operator Optimizations on CPUs\n",
    "\n",
    ":label:`ch_cpu_schedules`\n",
    "\n",
    "\n",
    "In the past three chapters we mainly focus on the functionality of operators, namely, how to implement the operators to function correctly in TVM. However, getting right results out is not sufficient. Operators could perform poorly even if they execute correctly.\n",
    "\n",
    "Starting from this chapter, we will talk about the performance optimization to the operators. Specifically, we will work on operator optimizations on CPUs in this chapter, and move on to GPUs in the next chapter."
   ]
  },
  {
   "cell_type": "markdown",
   "metadata": {},
   "source": [
    " - [arch](arch.ipynb)\n",
    " - [call_overhead](call_overhead.ipynb)\n",
    " - [vector_add](vector_add.ipynb)\n",
    " - [broadcast_add](broadcast_add.ipynb)\n",
    " - [matmul](matmul.ipynb)\n",
    " - [block_matmul](block_matmul.ipynb)\n",
    " - [conv](conv.ipynb)\n",
    " - [packed_conv](packed_conv.ipynb)\n",
    " - [depthwise_conv](depthwise_conv.ipynb)\n",
    " - [pooling](pooling.ipynb)\n"
   ]
  }
 ],
 "metadata": {
  "kernelspec": {
   "display_name": "Python 3",
   "name": "python3"
  },
  "language_info": {
   "name": "python"
  }
 },
 "nbformat": 4,
 "nbformat_minor": 2
}