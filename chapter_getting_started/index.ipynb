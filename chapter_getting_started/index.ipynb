{
 "cells": [
  {
   "cell_type": "markdown",
   "metadata": {},
   "source": [
    "# Getting Started\n",
    "\n",
    "Let's start your journey! There's a lot to learn, but every journey starts\n",
    "somewhere. In this part, we'll discuss:\n",
    "\n",
    "- Installing required libraries so you can run (almost) every chapter by yourself\n",
    "- Writing an operator that adds two vectors\n",
    "- Compiling a neural network model to run the inference, and saving the\n",
    "  compiled library"
   ]
  },
  {
   "cell_type": "markdown",
   "metadata": {},
   "source": [
    ":begin_tab:toc\n",
    " - [install](install.ipynb)\n",
    " - [vector_add](vector_add.ipynb)\n",
    " - [from_mxnet](from_mxnet.ipynb)\n",
    " - [remote](remote.ipynb)\n",
    ":end_tab:\n"
   ]
  }
 ],
 "metadata": {
  "kernelspec": {
   "display_name": "Python 3",
   "name": "python3"
  },
  "language_info": {
   "name": "python"
  }
 },
 "nbformat": 4,
 "nbformat_minor": 2
}