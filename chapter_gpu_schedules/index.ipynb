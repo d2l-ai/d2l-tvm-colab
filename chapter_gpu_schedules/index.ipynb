{
 "cells": [
  {
   "cell_type": "markdown",
   "metadata": {},
   "source": [
    "# Operator Optimizations on GPUs\n",
    ":label:`ch_gpu_schedules`\n",
    "\n",
    "The chapter talks about the operator optimization on Nvidia GPUs. Basically, we follow the some logic of last chapter, starting from introducing the architecture of GPUs, followed by the optimization of some typical operators."
   ]
  },
  {
   "cell_type": "markdown",
   "metadata": {},
   "source": [
    ":begin_tab:toc\n",
    " - [arch](arch.ipynb)\n",
    " - [vector_add](vector_add.ipynb)\n",
    " - [broadcast_add](broadcast_add.ipynb)\n",
    " - [matmul](matmul.ipynb)\n",
    " - [conv](conv.ipynb)\n",
    " - [depthwise_conv](depthwise_conv.ipynb)\n",
    " - [pooling](pooling.ipynb)\n",
    " - [batch_norm](batch_norm.ipynb)\n",
    ":end_tab:\n"
   ]
  }
 ],
 "metadata": {
  "kernelspec": {
   "display_name": "Python 3",
   "name": "python3"
  },
  "language_info": {
   "name": "python"
  }
 },
 "nbformat": 4,
 "nbformat_minor": 4
}