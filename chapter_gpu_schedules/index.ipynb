{
 "cells": [
  {
   "cell_type": "markdown",
   "metadata": {},
   "source": [
    "# Operator Optimizations on GPUs\n",
    "\n",
    ":label:`ch_gpu_schedules`\n",
    "\n",
    "\n",
    "The chapter talks about the operator optimization on Nvidia GPUs. Basically, we follow the some logic of last chapter, starting from introducing the architecture of GPUs, followed by the optimization of some typical operators."
   ]
  },
  {
   "cell_type": "markdown",
   "metadata": {},
   "source": [
    " - [arch](arch.ipynb)\n",
    " - [vector_add](vector_add.ipynb)\n",
    " - [broadcast_add](broadcast_add.ipynb)\n",
    " - [matmul](matmul.ipynb)\n",
    " - [conv](conv.ipynb)\n",
    " - [depthwise_conv](depthwise_conv.ipynb)\n"
   ]
  }
 ],
 "metadata": {
  "kernelspec": {
   "display_name": "Python 3",
   "name": "python3"
  },
  "language_info": {
   "name": "python"
  }
 },
 "nbformat": 4,
 "nbformat_minor": 2
}