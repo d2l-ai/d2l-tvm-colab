{
 "cells": [
  {
   "cell_type": "markdown",
   "metadata": {
    "origin_pos": 0
   },
   "source": [
    "# Colab notebooks for d2l-tvm\n",
    "\n",
    "This repo is automatically generated, please don't edit directly. You can click the \"colab\" button on the right of the page title to launch a notebook on colab. If you have any issue, please post to [d2l-tvm](https://github.com/d2l-ai/d2l-tvm) directly.\n"
   ]
  }
 ],
 "metadata": {
  "kernelspec": {
   "display_name": "Python 3",
   "name": "python3"
  },
  "language_info": {
   "name": "python"
  }
 },
 "nbformat": 4,
 "nbformat_minor": 4
}